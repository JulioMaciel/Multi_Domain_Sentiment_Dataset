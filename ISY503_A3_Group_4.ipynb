{
  "nbformat": 4,
  "nbformat_minor": 0,
  "metadata": {
    "colab": {
      "name": "ISY503_A3_release_version_v3.ipynb",
      "provenance": [],
      "collapsed_sections": [],
      "toc_visible": true
    },
    "kernelspec": {
      "name": "python3",
      "display_name": "Python 3"
    },
    "language_info": {
      "name": "python"
    }
  },
  "cells": [
    {
      "cell_type": "markdown",
      "source": [
        "<h1 align=\"center\" >Machine Learning Logistic Regression Model for Natural Language Processing (NLP) - Sentimen Analysis</h1>\n",
        "<hr size=10 color=\"green\">\n",
        "<h2 align=\"center \"> Group 4 </h2> \n",
        "\n",
        "**The purpose of this manual is to decribe the logistic regression predictive model applied to a dataset of four department stores, in which people have provided data (positive and negative reviews) to make future predictions on the language for accurate classification**"
      ],
      "metadata": {
        "id": "3Asoti6hx4zv"
      }
    },
    {
      "cell_type": "markdown",
      "source": [
        "<a href=\"mailto:julio.junior@business.torrens.edu.au\"> \n",
        "✉ Julio Cesar Maciel Junior </a> ,\n",
        " <a href=\"mailto:saksham.nanda@mds.torrens.edu.au\"> \n",
        " ✉ Saksham Nanda</a>,\n",
        " <a href=\"mailto:patricia.montenegro@business.torrens.edu.au\"> \n",
        " ✉ Patricia Mabel Rosero</a> and \n",
        " <a href=\"mailto:juan.garcia@business.torrens.edu.au\">\n",
        " ✉ Juan Sebastian Ortiz Garcia</a><br>"
      ],
      "metadata": {
        "id": "xH6osyFe8bS2"
      }
    },
    {
      "cell_type": "markdown",
      "source": [
        "# Table of Contents\n",
        "\n",
        "*  <a href=\"#c1\">1. Loading Libraries</a><br>\n",
        "*  <a href=\"#c2\">2. Exploratory Data Analysis</a><br>\n",
        "*  <a href=\"#c3\">3. Data Pre-Processing</a><br>\n",
        "*  <a href=\"#c4\">4. Data Modeling</a><br>\n",
        "*  <a href=\"#c5\">5. Model Testing with New Entry Data</a><br>\n",
        "\n",
        "\n"
      ],
      "metadata": {
        "id": "Sxb-huy3ystD"
      }
    },
    {
      "cell_type": "markdown",
      "source": [
        "<p> <a name=  \"c1\"><a></a> </p>\n",
        "\n",
        "\n",
        "#1. Loading Libraries\n",
        "1.1 First, the following libraries were imported to comply with the follwing objectives: \n",
        "\n",
        "\n",
        "\n",
        "*   Reading XML files\n",
        "*   Dataset Management\n",
        "*   Data Visualization\n",
        "*   NLP Processing\n",
        "*   Model Construction\n",
        "\n"
      ],
      "metadata": {
        "id": "Yx1CSD6KyEmV"
      }
    },
    {
      "cell_type": "code",
      "execution_count": 26,
      "metadata": {
        "colab": {
          "base_uri": "https://localhost:8080/"
        },
        "id": "UUBURZu-xynG",
        "outputId": "feb96d5a-411c-48ec-a0f6-7ff9b38656a0"
      },
      "outputs": [
        {
          "output_type": "stream",
          "name": "stdout",
          "text": [
            "Requirement already satisfied: autocorrect in /usr/local/lib/python3.7/dist-packages (2.6.1)\n",
            "[nltk_data] Downloading package punkt to /root/nltk_data...\n",
            "[nltk_data]   Package punkt is already up-to-date!\n",
            "[nltk_data] Downloading package wordnet to /root/nltk_data...\n",
            "[nltk_data]   Package wordnet is already up-to-date!\n",
            "[nltk_data] Downloading package stopwords to /root/nltk_data...\n",
            "[nltk_data]   Package stopwords is already up-to-date!\n",
            "[nltk_data] Downloading package words to /root/nltk_data...\n",
            "[nltk_data]   Package words is already up-to-date!\n",
            "[nltk_data] Downloading package brown to /root/nltk_data...\n",
            "[nltk_data]   Package brown is already up-to-date!\n"
          ]
        }
      ],
      "source": [
        "# Library to read the XML format and get the  text column\n",
        "from bs4 import BeautifulSoup\n",
        "\n",
        "#libraries for dataset management \n",
        "import numpy as np\n",
        "import pandas as pd\n",
        "\n",
        "#Library for data visualization\n",
        "from wordcloud import WordCloud\n",
        "import matplotlib.pyplot as plt\n",
        "import seaborn as sns\n",
        "\n",
        "# Libraries for NLP\n",
        "!pip install autocorrect\n",
        "from autocorrect import Speller\n",
        "spell = Speller(lang='en')\n",
        "import string\n",
        "import nltk\n",
        "nltk.download('punkt')\n",
        "nltk.download('wordnet')\n",
        "nltk.download('stopwords')\n",
        "nltk.download('words')\n",
        "nltk.download('brown')\n",
        "from nltk.stem import WordNetLemmatizer\n",
        "from nltk.corpus import brown\n",
        "from nltk.corpus import stopwords\n",
        "from nltk.corpus import words\n",
        "\n",
        "#libraries to build the model\n",
        "\n",
        "from sklearn.model_selection import train_test_split\n",
        "from sklearn.feature_extraction.text import TfidfVectorizer, CountVectorizer\n",
        "from sklearn.linear_model import LogisticRegression\n",
        "from sklearn.metrics import classification_report, confusion_matrix"
      ]
    },
    {
      "cell_type": "markdown",
      "source": [
        "1.2 Second, the function Beautiful Soup is used to get the data from XML source:"
      ],
      "metadata": {
        "id": "Wi1Wt1bD0cWd"
      }
    },
    {
      "cell_type": "code",
      "source": [
        "# Read XML review files\n",
        "url=\"https://raw.githubusercontent.com/sakshamnanda/ISY503-Assessment-3/main/positive1.review\"\n",
        "!wget {url}\n",
        "positive_reviews = BeautifulSoup(open('positive1.review').read(), features=\"html5lib\")\n",
        "positive_reviews = positive_reviews.findAll('review_text')\n",
        "positive_reviews = [i.contents[0] for i in positive_reviews]\n",
        "url=\"https://raw.githubusercontent.com/sakshamnanda/ISY503-Assessment-3/main/negative1.review\"\n",
        "!wget {url}\n",
        "negative_reviews = BeautifulSoup(open('negative1.review').read(), features=\"html5lib\")\n",
        "negative_reviews = negative_reviews.findAll('review_text')\n",
        "negative_reviews = [i.contents[0] for i in negative_reviews]"
      ],
      "metadata": {
        "colab": {
          "base_uri": "https://localhost:8080/"
        },
        "id": "fA2rpVOH02rU",
        "outputId": "127b5cd8-f9e6-4649-d481-7b92004bbb87"
      },
      "execution_count": 27,
      "outputs": [
        {
          "output_type": "stream",
          "name": "stdout",
          "text": [
            "--2022-05-08 11:59:51--  https://raw.githubusercontent.com/sakshamnanda/ISY503-Assessment-3/main/positive1.review\n",
            "Resolving raw.githubusercontent.com (raw.githubusercontent.com)... 185.199.108.133, 185.199.109.133, 185.199.110.133, ...\n",
            "Connecting to raw.githubusercontent.com (raw.githubusercontent.com)|185.199.108.133|:443... connected.\n",
            "HTTP request sent, awaiting response... 200 OK\n",
            "Length: 5330539 (5.1M) [text/plain]\n",
            "Saving to: ‘positive1.review.1’\n",
            "\n",
            "positive1.review.1  100%[===================>]   5.08M  --.-KB/s    in 0.05s   \n",
            "\n",
            "2022-05-08 11:59:52 (99.3 MB/s) - ‘positive1.review.1’ saved [5330539/5330539]\n",
            "\n",
            "--2022-05-08 12:00:02--  https://raw.githubusercontent.com/sakshamnanda/ISY503-Assessment-3/main/negative1.review\n",
            "Resolving raw.githubusercontent.com (raw.githubusercontent.com)... 185.199.108.133, 185.199.109.133, 185.199.110.133, ...\n",
            "Connecting to raw.githubusercontent.com (raw.githubusercontent.com)|185.199.108.133|:443... connected.\n",
            "HTTP request sent, awaiting response... 200 OK\n",
            "Length: 5260282 (5.0M) [text/plain]\n",
            "Saving to: ‘negative1.review.1’\n",
            "\n",
            "negative1.review.1  100%[===================>]   5.02M  --.-KB/s    in 0.04s   \n",
            "\n",
            "2022-05-08 12:00:03 (124 MB/s) - ‘negative1.review.1’ saved [5260282/5260282]\n",
            "\n"
          ]
        }
      ]
    },
    {
      "cell_type": "markdown",
      "source": [
        "1.3 Next, the creation of the dataset as follows:"
      ],
      "metadata": {
        "id": "a7MgAD1W6tpe"
      }
    },
    {
      "cell_type": "code",
      "source": [
        "# Frame it\n",
        "\n",
        "data = {'Text': positive_reviews + negative_reviews, 'Sentiment': [1] * len(positive_reviews) + [0] * len(negative_reviews)}\n",
        "df = pd.DataFrame(data = data)"
      ],
      "metadata": {
        "id": "kP4Klvk97el4"
      },
      "execution_count": 28,
      "outputs": []
    },
    {
      "cell_type": "markdown",
      "source": [
        "<p> <a name=  \"c2\"><a></a> </p>\n",
        "\n",
        "\n",
        "#2. Exploratory Data Analysis"
      ],
      "metadata": {
        "id": "EntLFv6iAp1t"
      }
    },
    {
      "cell_type": "markdown",
      "source": [
        "2.1 The following chart with the purpose of illustrate the distribution of number of words per review; where the mean number of words is 137."
      ],
      "metadata": {
        "id": "DbNXu15J8gku"
      }
    },
    {
      "cell_type": "code",
      "source": [
        "N_words=df.Text.apply(lambda x: len(x.split(\" \")))\n",
        "N_words.hist(bins=100);"
      ],
      "metadata": {
        "colab": {
          "base_uri": "https://localhost:8080/",
          "height": 265
        },
        "id": "R73Q0s3g81m3",
        "outputId": "82179253-a98a-4495-f2c2-af21a1f95244"
      },
      "execution_count": 29,
      "outputs": [
        {
          "output_type": "display_data",
          "data": {
            "text/plain": [
              "<Figure size 432x288 with 1 Axes>"
            ],
            "image/png": "[encoded data removed]"
          },
          "metadata": {
            "needs_background": "light"
          }
        }
      ]
    },
    {
      "cell_type": "code",
      "source": [
        "print(\"mean:\" + str(N_words.mean()))\n",
        "print(\"std:\" + str(N_words.std()))\n",
        "print(\"min:\" + str(N_words.min()))\n",
        "print(\"max:\" + str(N_words.max()))"
      ],
      "metadata": {
        "colab": {
          "base_uri": "https://localhost:8080/"
        },
        "id": "Eu2cKN3fBMsV",
        "outputId": "51a5274a-3eed-4368-87e3-74d93c3715ff"
      },
      "execution_count": 30,
      "outputs": [
        {
          "output_type": "stream",
          "name": "stdout",
          "text": [
            "mean:137.64775\n",
            "std:152.50615950191354\n",
            "min:1\n",
            "max:3427\n"
          ]
        }
      ]
    },
    {
      "cell_type": "markdown",
      "source": [
        "2.2 The next function will check the number of reviews with only one (1) word. "
      ],
      "metadata": {
        "id": "9flRXd4ZBTE_"
      }
    },
    {
      "cell_type": "code",
      "source": [
        "df1=df.copy()\n",
        "df1['N_words']=N_words\n",
        "df1[df1.N_words<3]"
      ],
      "metadata": {
        "colab": {
          "base_uri": "https://localhost:8080/",
          "height": 81
        },
        "id": "VzBbkUaJBYpo",
        "outputId": "36a1453f-1ebe-49ac-ebff-0e285e67d631"
      },
      "execution_count": 31,
      "outputs": [
        {
          "output_type": "execute_result",
          "data": {
            "text/plain": [
              "           Text  Sentiment  N_words\n",
              "245  \\nPeriod\\n          1        1"
            ],
            "text/html": [
              "\n",
              "  <div id=\"df-4d53edf9-8cbd-4530-9ab5-712a99df0da7\">\n",
              "    <div class=\"colab-df-container\">\n",
              "      <div>\n",
              "<style scoped>\n",
              "    .dataframe tbody tr th:only-of-type {\n",
              "        vertical-align: middle;\n",
              "    }\n",
              "\n",
              "    .dataframe tbody tr th {\n",
              "        vertical-align: top;\n",
              "    }\n",
              "\n",
              "    .dataframe thead th {\n",
              "        text-align: right;\n",
              "    }\n",
              "</style>\n",
              "<table border=\"1\" class=\"dataframe\">\n",
              "  <thead>\n",
              "    <tr style=\"text-align: right;\">\n",
              "      <th></th>\n",
              "      <th>Text</th>\n",
              "      <th>Sentiment</th>\n",
              "      <th>N_words</th>\n",
              "    </tr>\n",
              "  </thead>\n",
              "  <tbody>\n",
              "    <tr>\n",
              "      <th>245</th>\n",
              "      <td>\\nPeriod\\n</td>\n",
              "      <td>1</td>\n",
              "      <td>1</td>\n",
              "    </tr>\n",
              "  </tbody>\n",
              "</table>\n",
              "</div>\n",
              "      <button class=\"colab-df-convert\" onclick=\"convertToInteractive('df-4d53edf9-8cbd-4530-9ab5-712a99df0da7')\"\n",
              "              title=\"Convert this dataframe to an interactive table.\"\n",
              "              style=\"display:none;\">\n",
              "        \n",
              "  <svg xmlns=\"http://www.w3.org/2000/svg\" height=\"24px\"viewBox=\"0 0 24 24\"\n",
              "       width=\"24px\">\n",
              "    <path d=\"M0 0h24v24H0V0z\" fill=\"none\"/>\n",
              "    <path d=\"M18.56 5.44l.94 2.06.94-2.06 2.06-.94-2.06-.94-.94-2.06-.94 2.06-2.06.94zm-11 1L8.5 8.5l.94-2.06 2.06-.94-2.06-.94L8.5 2.5l-.94 2.06-2.06.94zm10 10l.94 2.06.94-2.06 2.06-.94-2.06-.94-.94-2.06-.94 2.06-2.06.94z\"/><path d=\"M17.41 7.96l-1.37-1.37c-.4-.4-.92-.59-1.43-.59-.52 0-1.04.2-1.43.59L10.3 9.45l-7.72 7.72c-.78.78-.78 2.05 0 2.83L4 21.41c.39.39.9.59 1.41.59.51 0 1.02-.2 1.41-.59l7.78-7.78 2.81-2.81c.8-.78.8-2.07 0-2.86zM5.41 20L4 18.59l7.72-7.72 1.47 1.35L5.41 20z\"/>\n",
              "  </svg>\n",
              "      </button>\n",
              "      \n",
              "  <style>\n",
              "    .colab-df-container {\n",
              "      display:flex;\n",
              "      flex-wrap:wrap;\n",
              "      gap: 12px;\n",
              "    }\n",
              "\n",
              "    .colab-df-convert {\n",
              "      background-color: #E8F0FE;\n",
              "      border: none;\n",
              "      border-radius: 50%;\n",
              "      cursor: pointer;\n",
              "      display: none;\n",
              "      fill: #1967D2;\n",
              "      height: 32px;\n",
              "      padding: 0 0 0 0;\n",
              "      width: 32px;\n",
              "    }\n",
              "\n",
              "    .colab-df-convert:hover {\n",
              "      background-color: #E2EBFA;\n",
              "      box-shadow: 0px 1px 2px rgba(60, 64, 67, 0.3), 0px 1px 3px 1px rgba(60, 64, 67, 0.15);\n",
              "      fill: #174EA6;\n",
              "    }\n",
              "\n",
              "    [theme=dark] .colab-df-convert {\n",
              "      background-color: #3B4455;\n",
              "      fill: #D2E3FC;\n",
              "    }\n",
              "\n",
              "    [theme=dark] .colab-df-convert:hover {\n",
              "      background-color: #434B5C;\n",
              "      box-shadow: 0px 1px 3px 1px rgba(0, 0, 0, 0.15);\n",
              "      filter: drop-shadow(0px 1px 2px rgba(0, 0, 0, 0.3));\n",
              "      fill: #FFFFFF;\n",
              "    }\n",
              "  </style>\n",
              "\n",
              "      <script>\n",
              "        const buttonEl =\n",
              "          document.querySelector('#df-4d53edf9-8cbd-4530-9ab5-712a99df0da7 button.colab-df-convert');\n",
              "        buttonEl.style.display =\n",
              "          google.colab.kernel.accessAllowed ? 'block' : 'none';\n",
              "\n",
              "        async function convertToInteractive(key) {\n",
              "          const element = document.querySelector('#df-4d53edf9-8cbd-4530-9ab5-712a99df0da7');\n",
              "          const dataTable =\n",
              "            await google.colab.kernel.invokeFunction('convertToInteractive',\n",
              "                                                     [key], {});\n",
              "          if (!dataTable) return;\n",
              "\n",
              "          const docLinkHtml = 'Like what you see? Visit the ' +\n",
              "            '<a target=\"_blank\" href=https://colab.research.google.com/notebooks/data_table.ipynb>data table notebook</a>'\n",
              "            + ' to learn more about interactive tables.';\n",
              "          element.innerHTML = '';\n",
              "          dataTable['output_type'] = 'display_data';\n",
              "          await google.colab.output.renderOutput(dataTable, element);\n",
              "          const docLink = document.createElement('div');\n",
              "          docLink.innerHTML = docLinkHtml;\n",
              "          element.appendChild(docLink);\n",
              "        }\n",
              "      </script>\n",
              "    </div>\n",
              "  </div>\n",
              "  "
            ]
          },
          "metadata": {},
          "execution_count": 31
        }
      ]
    },
    {
      "cell_type": "markdown",
      "source": [
        "2.3 Next, the following code to check the values of positive and negative sentiments, amking sure the data is balanced."
      ],
      "metadata": {
        "id": "X3cFtaowBgU3"
      }
    },
    {
      "cell_type": "code",
      "source": [
        "Sentiment_count=df.Sentiment.value_counts()\n",
        "Sentiment_count"
      ],
      "metadata": {
        "colab": {
          "base_uri": "https://localhost:8080/"
        },
        "id": "7Z06Q5tiBwzX",
        "outputId": "df00e0b1-5a43-449c-a0f5-3687a3c74981"
      },
      "execution_count": 32,
      "outputs": [
        {
          "output_type": "execute_result",
          "data": {
            "text/plain": [
              "1    4000\n",
              "0    4000\n",
              "Name: Sentiment, dtype: int64"
            ]
          },
          "metadata": {},
          "execution_count": 32
        }
      ]
    },
    {
      "cell_type": "markdown",
      "source": [
        "2.4 Next, the creation of a Word Cloud to illustrate the most frequent words without preprocessing"
      ],
      "metadata": {
        "id": "ZqiCrAjTB3qP"
      }
    },
    {
      "cell_type": "code",
      "source": [
        "Words_cloud = \" \".join(df.Text)\n",
        "wordcloud = WordCloud(\n",
        "    max_font_size=100,\n",
        "    max_words=100,\n",
        "    background_color=\"white\",\n",
        "    scale=10,\n",
        "    width=800,\n",
        "    height=400\n",
        ").generate(Words_cloud)\n",
        "\n",
        "plt.figure()\n",
        "plt.imshow(wordcloud, interpolation=\"bilinear\")\n",
        "plt.axis(\"off\")\n",
        "plt.show()"
      ],
      "metadata": {
        "colab": {
          "base_uri": "https://localhost:8080/",
          "height": 198
        },
        "id": "Scw2lbubB-na",
        "outputId": "e21429b7-dc7f-4b55-9bc8-1cf108d530e1"
      },
      "execution_count": 33,
      "outputs": [
        {
          "output_type": "display_data",
          "data": {
            "text/plain": [
              "<Figure size 432x288 with 1 Axes>"
            ],
            "image/png": "[encoded data removed]"
          },
          "metadata": {
            "needs_background": "light"
          }
        }
      ]
    },
    {
      "cell_type": "markdown",
      "source": [
        "<p> <a name=  \"c3\"><a></a> </p>\n",
        "\n",
        "\n",
        "#3. Data Pre-Processing"
      ],
      "metadata": {
        "id": "gZ-an27cCJKo"
      }
    },
    {
      "cell_type": "markdown",
      "source": [
        "3.1 The next stage is to select the  independent variable (df['Text']),  and target variable (df['Sentiment']); shuffle the data; and then split those in Train (80%) and Test(20%)"
      ],
      "metadata": {
        "id": "xUzWjcWyCdOG"
      }
    },
    {
      "cell_type": "code",
      "source": [
        "# Define tests variables\n",
        "\n",
        "X_train, X_test, y_train, y_test = train_test_split(df['Text'], df['Sentiment'], test_size=0.2, random_state=42)"
      ],
      "metadata": {
        "id": "Mn2rKBhuCjoU"
      },
      "execution_count": 34,
      "outputs": []
    },
    {
      "cell_type": "markdown",
      "source": [
        "3.1.1 Check the distribution of the target"
      ],
      "metadata": {
        "id": "DMfYQVnwCtxj"
      }
    },
    {
      "cell_type": "code",
      "source": [
        "y_train.value_counts()"
      ],
      "metadata": {
        "colab": {
          "base_uri": "https://localhost:8080/"
        },
        "id": "6RWVUchpCzvH",
        "outputId": "d599b556-a593-43a4-e9ac-44d5c3d372aa"
      },
      "execution_count": 35,
      "outputs": [
        {
          "output_type": "execute_result",
          "data": {
            "text/plain": [
              "0    3204\n",
              "1    3196\n",
              "Name: Sentiment, dtype: int64"
            ]
          },
          "metadata": {},
          "execution_count": 35
        }
      ]
    },
    {
      "cell_type": "code",
      "source": [
        "y_test.value_counts()"
      ],
      "metadata": {
        "colab": {
          "base_uri": "https://localhost:8080/"
        },
        "id": "PsQfSgfrC3Kr",
        "outputId": "f2bd88fa-d558-4529-ae09-88ce3712e859"
      },
      "execution_count": 36,
      "outputs": [
        {
          "output_type": "execute_result",
          "data": {
            "text/plain": [
              "1    804\n",
              "0    796\n",
              "Name: Sentiment, dtype: int64"
            ]
          },
          "metadata": {},
          "execution_count": 36
        }
      ]
    },
    {
      "cell_type": "markdown",
      "source": [
        "3.2 Next, the definition of functions to process text reviews:"
      ],
      "metadata": {
        "id": "p5hH8QUqC92Q"
      }
    },
    {
      "cell_type": "code",
      "source": [
        "# Set functions\n",
        "\n",
        "wordnet_lemmatizer = WordNetLemmatizer()\n",
        "english_stopwords = stopwords.words('english')\n",
        "word_set = set(brown.words())\n",
        "\n",
        "# Define the cleaning function\n",
        "\n",
        "def clear(sen, fix_misspelling = False):\n",
        "    sen = sen.lower() # set all to downcase\n",
        "    tokens = nltk.tokenize.word_tokenize(sen) # split string into tokens\n",
        "    tokens = [t for t in tokens if len(t) >= 3] # remove words shorter than 3 chracters\n",
        "    tokens = [t.translate(str.maketrans('', '', string.punctuation)) for t in tokens] # remove punctuation\n",
        "    tokens = [t for t in tokens if not any(i.isdigit() for i in t)] # remove digits\n",
        "\n",
        "    if fix_misspelling: # default false, for performance purposes\n",
        "      for t in tokens:\n",
        "        if t not in word_set:\n",
        "          tokens = [w.replace(t, spell(t)) for w in tokens]\n",
        "\n",
        "    tokens = [wordnet_lemmatizer.lemmatize(t, 'v') for t in tokens] # put words into base form\n",
        "    tokens = [t for t in tokens if t not in english_stopwords] # remove stopwords    \n",
        "    return tokens"
      ],
      "metadata": {
        "id": "W_S4J5H1DOrb"
      },
      "execution_count": 37,
      "outputs": []
    },
    {
      "cell_type": "markdown",
      "source": [
        "3.3 Next, the encoding of tokens from reviews applying CountVectorizer model and the previous functions."
      ],
      "metadata": {
        "id": "RWM7Odc-DVP8"
      }
    },
    {
      "cell_type": "code",
      "source": [
        "# encode into numerical\n",
        "count_vect_model = CountVectorizer(tokenizer = clear)\n",
        "count_vect_model.fit(X_train)\n",
        "X_train_cnt = count_vect_model.transform(X_train)\n",
        "X_test_cnt = count_vect_model.transform(X_test)"
      ],
      "metadata": {
        "colab": {
          "base_uri": "https://localhost:8080/"
        },
        "id": "IRRzoPlGDgyT",
        "outputId": "bfcfec1c-15d2-46cf-a884-a3327279e585"
      },
      "execution_count": 38,
      "outputs": [
        {
          "output_type": "stream",
          "name": "stderr",
          "text": [
            "/usr/local/lib/python3.7/dist-packages/sklearn/feature_extraction/text.py:517: UserWarning: The parameter 'token_pattern' will not be used since 'tokenizer' is not None'\n",
            "  \"The parameter 'token_pattern' will not be used\"\n"
          ]
        }
      ]
    },
    {
      "cell_type": "markdown",
      "source": [
        "<p> <a name=  \"c4\"><a></a> </p>\n",
        "\n",
        "\n",
        "#4. Data Modeling"
      ],
      "metadata": {
        "id": "bUHmvExqDuHS"
      }
    },
    {
      "cell_type": "markdown",
      "source": [
        "4.1 Logistic Regression model was selected to predict the binary outcome from positive and negative reviews.\n",
        "Then, this model was training with the X_train_cnt matrix and Y_train"
      ],
      "metadata": {
        "id": "_gBf1GVgD5QG"
      }
    },
    {
      "cell_type": "code",
      "source": [
        "model = LogisticRegression(solver='lbfgs', max_iter=1000)\n",
        "model.fit(X_train_cnt, y_train)"
      ],
      "metadata": {
        "colab": {
          "base_uri": "https://localhost:8080/"
        },
        "id": "Y2sTWR01D7MW",
        "outputId": "c59603c9-e23a-4cb2-b931-34d50c43f438"
      },
      "execution_count": 39,
      "outputs": [
        {
          "output_type": "execute_result",
          "data": {
            "text/plain": [
              "LogisticRegression(max_iter=1000)"
            ]
          },
          "metadata": {},
          "execution_count": 39
        }
      ]
    },
    {
      "cell_type": "markdown",
      "source": [
        "4.2 Next, the following metrics application for model evaluation\n",
        "\n",
        "***This stage is crucial because it reflects the model accuracy at 82%, with precision for a positive sentiment of 81% and negative sentiment of 82%,  sensitivity of 83% and 80% positive and negative respectively ***"
      ],
      "metadata": {
        "id": "BjKBPaAMEKeY"
      }
    },
    {
      "cell_type": "code",
      "source": [
        "y_pred = model.predict(X_test_cnt)\n",
        "print(classification_report(y_test,y_pred))"
      ],
      "metadata": {
        "colab": {
          "base_uri": "https://localhost:8080/"
        },
        "id": "4BzUBpnHE4-D",
        "outputId": "4edbd78d-2dd5-4f72-8500-7ecf2a856c19"
      },
      "execution_count": 40,
      "outputs": [
        {
          "output_type": "stream",
          "name": "stdout",
          "text": [
            "              precision    recall  f1-score   support\n",
            "\n",
            "           0       0.82      0.81      0.82       796\n",
            "           1       0.82      0.82      0.82       804\n",
            "\n",
            "    accuracy                           0.82      1600\n",
            "   macro avg       0.82      0.82      0.82      1600\n",
            "weighted avg       0.82      0.82      0.82      1600\n",
            "\n"
          ]
        }
      ]
    },
    {
      "cell_type": "markdown",
      "source": [
        "4.3 Next, the next plot to visualize the performance of the tested data:"
      ],
      "metadata": {
        "id": "V3TrBViKFUC_"
      }
    },
    {
      "cell_type": "code",
      "source": [
        "plt.figure(figsize=(6,6))\n",
        "sns.heatmap(confusion_matrix(y_test,y_pred), annot=True, square=True);"
      ],
      "metadata": {
        "colab": {
          "base_uri": "https://localhost:8080/",
          "height": 357
        },
        "id": "LKAs4S4wE9Hs",
        "outputId": "0a80ad23-8a2e-4824-dccb-a3500ad0a749"
      },
      "execution_count": 41,
      "outputs": [
        {
          "output_type": "display_data",
          "data": {
            "text/plain": [
              "<Figure size 432x432 with 2 Axes>"
            ],
            "image/png": "[encoded data removed]"
          },
          "metadata": {
            "needs_background": "light"
          }
        }
      ]
    },
    {
      "cell_type": "markdown",
      "source": [
        "4.3.1 This confussion matrix shows for the tested data:\n",
        "*   670 reviews were true positive\n",
        "*   640 reviews were true negative\n",
        "*   160 reviews were false negative\n",
        "*   140 reviews were false positive"
      ],
      "metadata": {
        "id": "fllI2IVpFvmb"
      }
    },
    {
      "cell_type": "markdown",
      "source": [
        "4.4 On this stage, auxiliar class was applied to examine the dataset entries:"
      ],
      "metadata": {
        "id": "zPGmxN7xGgz1"
      }
    },
    {
      "cell_type": "code",
      "source": [
        "# Auxiliar class to compare future entries\n",
        "class ValuedWord:\n",
        "  def __init__(self, word, value):\n",
        "    self.word = word\n",
        "    self.value = value\n",
        "\n",
        "valuedWords = []\n",
        "\n",
        "# Word examination for highest prediction\n",
        "threshold = 0.8\n",
        "for i, j in zip(count_vect_model.get_feature_names_out(), model.coef_[0]):\n",
        "    if j > threshold or j < -threshold:\n",
        "        vw = ValuedWord(i, round(j, 3))\n",
        "        valuedWords.append(vw)"
      ],
      "metadata": {
        "id": "lX295984G6yO"
      },
      "execution_count": 42,
      "outputs": []
    },
    {
      "cell_type": "markdown",
      "source": [
        "4.4.1 Checking the evaluated values for each word"
      ],
      "metadata": {
        "id": "JSgSaMRHcMHm"
      }
    },
    {
      "cell_type": "code",
      "source": [
        "for vw in valuedWords:\n",
        "  print(vw.word, vw.value)"
      ],
      "metadata": {
        "colab": {
          "base_uri": "https://localhost:8080/"
        },
        "id": "ayWRzBoNb2I2",
        "outputId": "9192dac9-39a8-4c54-eda4-f7e49b65f92f"
      },
      "execution_count": 43,
      "outputs": [
        {
          "output_type": "stream",
          "name": "stdout",
          "text": [
            "amaze 1.158\n",
            "appreciate 0.995\n",
            "armband -1.058\n",
            "awesome 0.877\n",
            "awful -1.411\n",
            "bad -0.899\n",
            "barely -1.019\n",
            "beautifully 1.143\n",
            "best 1.194\n",
            "blah -0.986\n",
            "bore -1.597\n",
            "braun 0.898\n",
            "brilliant 0.853\n",
            "bunch -0.864\n",
            "cheap -0.909\n",
            "clog -1.052\n",
            "comfortable 0.838\n",
            "complaint 0.815\n",
            "cooker -0.994\n",
            "cookware 0.832\n",
            "cool 1.277\n",
            "crack -0.82\n",
            "crap -1.044\n",
            "cycle -0.837\n",
            "dangerous -1.061\n",
            "delicious 0.962\n",
            "die -0.849\n",
            "disapointed -0.845\n",
            "disappoint -1.595\n",
            "disappointment -1.94\n",
            "disney -0.828\n",
            "dissapointed -1.048\n",
            "distract -0.82\n",
            "dracula 1.149\n",
            "drawback 0.9\n",
            "dull -0.871\n",
            "ears -0.878\n",
            "easier 1.05\n",
            "easily 0.917\n",
            "easy 1.321\n",
            "enjoy 1.168\n",
            "enjoyable 1.048\n",
            "entertain 1.022\n",
            "excellent 2.02\n",
            "fail -1.148\n",
            "fantastic 0.987\n",
            "fast 1.055\n",
            "faster 0.81\n",
            "flow -0.803\n",
            "fortunately -0.804\n",
            "garbage -1.036\n",
            "glad 1.429\n",
            "graphic -0.808\n",
            "grater -0.801\n",
            "great 1.144\n",
            "hardly -1.034\n",
            "helen 0.984\n",
            "highly 1.307\n",
            "hop -0.928\n",
            "horrible -0.993\n",
            "impression -0.919\n",
            "instal 0.805\n",
            "instantly 0.838\n",
            "intense 0.89\n",
            "itrip 1.121\n",
            "junk -1.257\n",
            "lack -0.955\n",
            "lame -1.079\n",
            "larger 0.822\n",
            "lenmar 0.895\n",
            "local 0.829\n",
            "love 1.091\n",
            "mechanism -0.988\n",
            "minutes -0.813\n",
            "nicely 0.818\n",
            "ok -0.871\n",
            "outstanding 1.164\n",
            "package -0.803\n",
            "perfect 1.572\n",
            "perfectly 1.46\n",
            "perform 0.892\n",
            "plenty 0.871\n",
            "point -0.837\n",
            "poor -1.68\n",
            "poorly -1.855\n",
            "predictable -1.273\n",
            "quiet 0.843\n",
            "quit -1.245\n",
            "rare 1.089\n",
            "refund -1.012\n",
            "return -1.96\n",
            "ridiculous -0.82\n",
            "rough -0.872\n",
            "satisfy 1.3\n",
            "shut -0.847\n",
            "sick -0.801\n",
            "six 0.807\n",
            "size 0.801\n",
            "skip -0.8\n",
            "smoke -0.808\n",
            "smooth 0.867\n",
            "solid 0.921\n",
            "stiff -0.915\n",
            "stronger 0.814\n",
            "stupid -1.069\n",
            "submarine -1.084\n",
            "terrible -1.416\n",
            "thank 0.829\n",
            "thermometer -0.991\n",
            "thin -0.92\n",
            "try -0.81\n",
            "unfortunately -2.044\n",
            "unless -0.929\n",
            "unusable -0.985\n",
            "warn -0.881\n",
            "waste -2.466\n",
            "ways 1.267\n",
            "wear 0.847\n",
            "wonderful 0.874\n",
            "wonderfully 0.828\n",
            "worse -1.596\n",
            "worst -2.011\n",
            "worthless -0.955\n"
          ]
        }
      ]
    },
    {
      "cell_type": "markdown",
      "source": [
        "<p> <a name=  \"c5\"><a></a> </p>\n",
        "\n",
        "#5. Model Testing with New Entry Data"
      ],
      "metadata": {
        "id": "bjNbRzEJGH8h"
      }
    },
    {
      "cell_type": "markdown",
      "source": [
        "5.1 This model will compare the new sentence with the XML provided before, and a sum up of sentiments value"
      ],
      "metadata": {
        "id": "WZ3wp7iuH0LO"
      }
    },
    {
      "cell_type": "code",
      "source": [
        "wordsConsidered = []\n",
        "#Call the function to anvil \n",
        "@anvil.server.callable\n",
        "def on_button_clicked(entrySen):\n",
        "  wordsConsidered = []\n",
        "  # Splitting sentence into cleaned tokens\n",
        "  entered_words = clear(entrySen, True)\n",
        "  \n",
        "  senValue = 0 # The sentiment starts neutral\n",
        "  \n",
        "  # Compare each word from the entered sentence with the those from the XML  \n",
        "  for word in entered_words:\n",
        "    for vw in valuedWords:\n",
        "      if word == vw.word:\n",
        "        wordsConsidered.append(vw)\n",
        "        senValue += vw.value\n",
        "\n",
        "  str_result = ''\n",
        "  # Sum up sentiments value\n",
        "  if senValue != 0:\n",
        "    if senValue > 0:\n",
        "      str_result = 'positive'\n",
        "    else:\n",
        "      str_result = 'negative'\n",
        "  else:\n",
        "    str_result = 'neutral'\n",
        "  \n",
        "  result1 = ''\n",
        "  for c in wordsConsidered:\n",
        "    result1 += '\\n ' + str(c.word) + ', ' + str(c.value)\n",
        " \n",
        "  return 'This sentence is ' + str(str_result) + '!' +  '\\nThe words taken into consideration are: ' + str(result1)"
      ],
      "metadata": {
        "id": "7szUURhWNNto"
      },
      "execution_count": 44,
      "outputs": []
    },
    {
      "cell_type": "code",
      "source": [
        "def on_words_considered_click():\n",
        "  \n",
        "  result = ''\n",
        "  for c in wordsConsidered:\n",
        "    result += '\\n' + str(c.word) + ', ' + str(c.value)\n",
        "  return result"
      ],
      "metadata": {
        "id": "1U8vr8IVlPaB"
      },
      "execution_count": 45,
      "outputs": []
    },
    {
      "cell_type": "markdown",
      "source": [
        "<p> <a name=  \"c6\"><a></a> </p>\n",
        "\n",
        "\n",
        "#6. Data Modeling with Neural Networks\n",
        "\n",
        "6.1 The following code will convert the matrix of token counts into numpy arrays as Keras is not supporting the present format"
      ],
      "metadata": {
        "id": "C5VH2vwbR4O_"
      }
    },
    {
      "cell_type": "code",
      "source": [
        "X_train_cnt1=X_train_cnt.toarray()\n",
        "X_test_cnt1=X_test_cnt.toarray()\n",
        "X_train_cnt1.shape # Display de number of rows and columns"
      ],
      "metadata": {
        "colab": {
          "base_uri": "https://localhost:8080/"
        },
        "id": "QFD3QefvS4X6",
        "outputId": "b2c24fbe-1482-4692-92d0-97d719657512"
      },
      "execution_count": 46,
      "outputs": [
        {
          "output_type": "execute_result",
          "data": {
            "text/plain": [
              "(6400, 30607)"
            ]
          },
          "metadata": {},
          "execution_count": 46
        }
      ]
    },
    {
      "cell_type": "code",
      "source": [
        "#Keeps the notebook running and  the app calls the functions indefinitely.\n",
        "#anvil.server.wait_forever()"
      ],
      "metadata": {
        "id": "ebi6hrdf0AP4"
      },
      "execution_count": 47,
      "outputs": []
    },
    {
      "cell_type": "markdown",
      "source": [
        "#7. Internal Testing\n",
        "\n",
        "The following code is just for internal tests, without using the Anvil app integration."
      ],
      "metadata": {
        "id": "RFFWqYMoZYw5"
      }
    },
    {
      "cell_type": "code",
      "source": [
        "new_sen = input()\n",
        "print(on_button_clicked(new_sen))\n",
        "print(on_words_considered_click())"
      ],
      "metadata": {
        "id": "Q9ptt1OkZNEu",
        "colab": {
          "base_uri": "https://localhost:8080/"
        },
        "outputId": "74fcef3d-e471-44f5-b90f-9a9253e34a49"
      },
      "execution_count": 48,
      "outputs": [
        {
          "output_type": "stream",
          "name": "stdout",
          "text": [
            "This product is AMAZING! I love it, because it's so good. But it is the worst of the series.\n",
            "This sentence is positive!\n",
            "The words taken into consideration are: \n",
            " amaze, 1.158\n",
            " love, 1.091\n",
            " worst, -2.011\n",
            "\n"
          ]
        }
      ]
    }
  ]
}